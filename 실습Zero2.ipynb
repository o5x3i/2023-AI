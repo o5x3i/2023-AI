{
  "nbformat": 4,
  "nbformat_minor": 0,
  "metadata": {
    "colab": {
      "provenance": [],
      "authorship_tag": "ABX9TyM4/GmZUM3nzxAqF3GIh+VQ",
      "include_colab_link": true
    },
    "kernelspec": {
      "name": "python3",
      "display_name": "Python 3"
    },
    "language_info": {
      "name": "python"
    }
  },
  "cells": [
    {
      "cell_type": "markdown",
      "metadata": {
        "id": "view-in-github",
        "colab_type": "text"
      },
      "source": [
        "<a href=\"https://colab.research.google.com/github/o5x3i/2023-AI/blob/main/%EC%8B%A4%EC%8A%B5Zero2.ipynb\" target=\"_parent\"><img src=\"https://colab.research.google.com/assets/colab-badge.svg\" alt=\"Open In Colab\"/></a>"
      ]
    },
    {
      "cell_type": "markdown",
      "source": [
        "# 라이브러리(패키지) 로드"
      ],
      "metadata": {
        "id": "PbktlqlU-GMW"
      }
    },
    {
      "cell_type": "code",
      "execution_count": 1,
      "metadata": {
        "id": "ASnp-uZ79_ZZ"
      },
      "outputs": [],
      "source": [
        "import numpy as np"
      ]
    },
    {
      "cell_type": "markdown",
      "source": [
        "#벡터, 행렬 연산, 그래프 그리기"
      ],
      "metadata": {
        "id": "zyAKolKi-abl"
      }
    },
    {
      "cell_type": "code",
      "source": [
        "def print_val (x) :\n",
        "  print (\"Type:\", type(x))\n",
        "  print (\"Shape:\", x.shape)\n",
        "  print (\"값:\\n\", x)\n",
        "  print (\" \")"
      ],
      "metadata": {
        "id": "DtEl02PU-lNu"
      },
      "execution_count": 2,
      "outputs": []
    },
    {
      "cell_type": "markdown",
      "source": [
        "#rank 1 np array"
      ],
      "metadata": {
        "id": "Eh1R2bBb_Yim"
      }
    },
    {
      "cell_type": "code",
      "source": [],
      "metadata": {
        "id": "B_XwvBbO_ga9"
      },
      "execution_count": null,
      "outputs": []
    }
  ]
}